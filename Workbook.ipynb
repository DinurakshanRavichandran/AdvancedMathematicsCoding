{
  "nbformat": 4,
  "nbformat_minor": 0,
  "metadata": {
    "colab": {
      "provenance": [],
      "authorship_tag": "ABX9TyPtNIdrF9DJmfxVGqS4boL2",
      "include_colab_link": true
    },
    "kernelspec": {
      "name": "python3",
      "display_name": "Python 3"
    },
    "language_info": {
      "name": "python"
    }
  },
  "cells": [
    {
      "cell_type": "markdown",
      "metadata": {
        "id": "view-in-github",
        "colab_type": "text"
      },
      "source": [
        "<a href=\"https://colab.research.google.com/github/DinurakshanRavichandran/AdvancedMathematicsCoding/blob/main/Workbook.ipynb\" target=\"_parent\"><img src=\"https://colab.research.google.com/assets/colab-badge.svg\" alt=\"Open In Colab\"/></a>"
      ]
    },
    {
      "cell_type": "markdown",
      "source": [
        "# Proportions"
      ],
      "metadata": {
        "id": "Oi5PyZP2KoIb"
      }
    },
    {
      "cell_type": "markdown",
      "source": [
        "Set up a proportion:<br>\n",
        "$\\frac{n1}{d1}=\\frac{n2}{d2}$\n",
        "\n",
        "\n",
        "\n"
      ],
      "metadata": {
        "id": "GeMWhq5LLbK8"
      }
    },
    {
      "cell_type": "code",
      "execution_count": null,
      "metadata": {
        "colab": {
          "base_uri": "https://localhost:8080/"
        },
        "id": "pmBqDffYKlxc",
        "outputId": "a93fa1a8-2421-4d84-e48b-0aa4d2780b89"
      },
      "outputs": [
        {
          "output_type": "stream",
          "name": "stdout",
          "text": [
            "The value of n2 is 8.0\n"
          ]
        }
      ],
      "source": [
        "#Put a zero in for the unknown value\n",
        "\n",
        "n1 = 1\n",
        "d1 = 2\n",
        "n2 = 0\n",
        "d2 = 16\n",
        "\n",
        "\n",
        "if n2 == 0:\n",
        "  answer = d2 * n1 / d1\n",
        "  print(f\"The value of n2 is {answer}\")\n",
        "elif d2 == 0:\n",
        "  answer = n1/d1 * n2\n",
        "  print(f\"The value of d2 is {answer}\")"
      ]
    },
    {
      "cell_type": "markdown",
      "source": [
        "# Solve for x"
      ],
      "metadata": {
        "id": "2eJgC4zPpWjs"
      }
    },
    {
      "cell_type": "code",
      "source": [
        "import sympy\n",
        "from sympy.solvers import solve\n",
        "from sympy import symbols\n",
        "\n",
        "x = symbols('x')\n",
        "\n",
        "#put the equation here\n",
        "eq = x - 2\n",
        "\n",
        "print(f\"x = {solve(eq, x)}\")"
      ],
      "metadata": {
        "colab": {
          "base_uri": "https://localhost:8080/"
        },
        "id": "Vux2iOTTpd5G",
        "outputId": "e1ba16f2-3ced-4163-f6fa-e801f7479206"
      },
      "execution_count": null,
      "outputs": [
        {
          "output_type": "stream",
          "name": "stdout",
          "text": [
            "x = [2]\n"
          ]
        }
      ]
    },
    {
      "cell_type": "markdown",
      "source": [
        "Prompt for someone to enter the equation, then solve."
      ],
      "metadata": {
        "id": "QcwaQKb196xO"
      }
    },
    {
      "cell_type": "code",
      "source": [
        "import sympy\n",
        "from sympy import symbols\n",
        "from sympy.solvers import solve\n",
        "\n",
        "x = symbols('x')\n",
        "\n",
        "eq = input(\"Enter the equation: 0 = \")\n",
        "print(f\"x = {solve(eq, x)}\")"
      ],
      "metadata": {
        "colab": {
          "base_uri": "https://localhost:8080/"
        },
        "id": "Kx82NZxP921C",
        "outputId": "b3fca7f1-4048-446d-f520-a91fe5fd368e"
      },
      "execution_count": null,
      "outputs": [
        {
          "output_type": "stream",
          "name": "stdout",
          "text": [
            "Enter the equation: x = 3**x + 2\n",
            "x = [(log(2) + I*pi)/log(3)]\n"
          ]
        }
      ]
    },
    {
      "cell_type": "markdown",
      "source": [
        "Doing more with the solution"
      ],
      "metadata": {
        "id": "4JJUitfVANcv"
      }
    },
    {
      "cell_type": "code",
      "source": [
        "import sympy\n",
        "from sympy import symbols\n",
        "from sympy.solvers import solve\n",
        "\n",
        "x = symbols(\"x\")\n",
        "\n",
        "eq = input(\"Enter the equatoin: 0 = \")\n",
        "\n",
        "#storing the solutions\n",
        "solutions = solve(eq,x)\n",
        "\n",
        "print(f\"The first soution is: {solutions[0]} \")"
      ],
      "metadata": {
        "colab": {
          "base_uri": "https://localhost:8080/"
        },
        "id": "RB61f30FASZh",
        "outputId": "a4c95f07-5f58-4eae-c874-e63f00ac6d22"
      },
      "execution_count": null,
      "outputs": [
        {
          "output_type": "stream",
          "name": "stdout",
          "text": [
            "Enter the equatoin: 0 = 3**x + 2\n",
            "The first soution is: (log(2) + I*pi)/log(3) \n"
          ]
        }
      ]
    },
    {
      "cell_type": "markdown",
      "source": [
        "Multiple answers"
      ],
      "metadata": {
        "id": "ung3Ir_ABEN1"
      }
    },
    {
      "cell_type": "code",
      "source": [
        "import sympy\n",
        "from sympy import symbols\n",
        "from sympy.solvers import solve\n",
        "\n",
        "x = symbols(\"x\")\n",
        "\n",
        "eq = input(\"Enter the equation: 0 = \")\n",
        "\n",
        "solutions = solve(eq, x)\n",
        "\n",
        "for solution in solutions:\n",
        "  print(f\"x = {solution}\")"
      ],
      "metadata": {
        "colab": {
          "base_uri": "https://localhost:8080/"
        },
        "id": "qMHSlVksBpB2",
        "outputId": "b07bccf2-59a7-448d-f9bb-b8c083dbc80d"
      },
      "execution_count": null,
      "outputs": [
        {
          "output_type": "stream",
          "name": "stdout",
          "text": [
            "Enter the equation: 0 = (x - 1)*(x+2)*(x-3)\n",
            "x = -2\n",
            "x = 1\n",
            "x = 3\n"
          ]
        }
      ]
    },
    {
      "cell_type": "markdown",
      "source": [
        "Solving in other ways"
      ],
      "metadata": {
        "id": "mbPNburQDR8b"
      }
    },
    {
      "cell_type": "code",
      "source": [
        "from sympy import *\n",
        "\n",
        "#Define the variables\n",
        "var('x y')\n",
        "#Define the first equation set equal to zero ready to solve\n",
        "first = 2*x + 2 - y\n",
        "\n",
        "\n",
        "#Equal the first eqaution to 0, sympy syntax to equate the first equation to zero ready to factor\n",
        "eq1 = Eq(first, 0)\n",
        "#Solve the first equation\n",
        "sol = solve(eq1, x)\n",
        "\n",
        "#Show factored results\n",
        "for s in sol:\n",
        "  print(f\"x = {s}\")\n"
      ],
      "metadata": {
        "colab": {
          "base_uri": "https://localhost:8080/"
        },
        "id": "r-rMO2xRDUfA",
        "outputId": "d5dce597-fc07-4b23-99bf-d9483a64fccf"
      },
      "execution_count": null,
      "outputs": [
        {
          "output_type": "stream",
          "name": "stdout",
          "text": [
            "x = y/2 - 1\n"
          ]
        }
      ]
    },
    {
      "cell_type": "markdown",
      "source": [
        "Factoring"
      ],
      "metadata": {
        "id": "H6Xvfg9gIeGn"
      }
    },
    {
      "cell_type": "code",
      "source": [
        "import sympy\n",
        "from sympy import symbols\n",
        "\n",
        "var('x y')\n",
        "#Equation set equal to zero, ready to solve\n",
        "equation = x**3 + 3*x + 4\n",
        "\n",
        "sympy.factor(equation)"
      ],
      "metadata": {
        "colab": {
          "base_uri": "https://localhost:8080/",
          "height": 39
        },
        "id": "Gdsr6z4SIdqo",
        "outputId": "309e23ce-20da-49c8-8fb7-e34ed267f73e"
      },
      "execution_count": null,
      "outputs": [
        {
          "output_type": "execute_result",
          "data": {
            "text/plain": [
              "(x + 1)*(x**2 - x + 4)"
            ],
            "text/latex": "$\\displaystyle \\left(x + 1\\right) \\left(x^{2} - x + 4\\right)$"
          },
          "metadata": {},
          "execution_count": 20
        }
      ]
    },
    {
      "cell_type": "markdown",
      "source": [
        "Factoring and solving for a variable"
      ],
      "metadata": {
        "id": "QdCRoqzeSMoW"
      }
    },
    {
      "cell_type": "code",
      "source": [
        "from sympy import *\n",
        "import math\n",
        "\n",
        "#identify all variables\n",
        "var('a b c d x')\n",
        "\n",
        "#left and right sides of the equal sign\n",
        "left = 0\n",
        "right = a*x**2 + b*x + c\n",
        "\n",
        "#variable to solve for\n",
        "variable = x\n",
        "\n",
        "#sympy equation left = right\n",
        "eq1 = Eq(left, right)\n",
        "\n",
        "#sympy solve for that variable\n",
        "sol = solve(eq1, variable)\n",
        "\n",
        "#show factored results\n",
        "for s in sol:\n",
        "  print(f\"{variable} = {s}\")\n"
      ],
      "metadata": {
        "id": "4u40v1LUSRdl"
      },
      "execution_count": null,
      "outputs": []
    },
    {
      "cell_type": "markdown",
      "source": [
        "Explaining how each function works"
      ],
      "metadata": {
        "id": "3IBH5IYWYAP5"
      }
    },
    {
      "cell_type": "code",
      "source": [
        "# converts string input (even fractions) to float\n",
        "def string_frac(in_string):\n",
        "    if \"/\" in in_string:\n",
        "        nd = in_string.split(\"/\")\n",
        "        n = float(nd[0])\n",
        "        d = float(nd[1])\n",
        "        ans = n/d\n",
        "        return ans\n",
        "    else:\n",
        "        ans = float(in_string)\n",
        "        return ans\n",
        "\n",
        "\n",
        "# Simplest one-step addition\n",
        "def one_step_add():\n",
        "    import random\n",
        "    # Display problem\n",
        "    a = random.randint(-4,10)\n",
        "    b = random.randint(2,24)\n",
        "    print(\"x + \", a, \" = \", b)\n",
        "    ans = float(input(\"x = \"))\n",
        "    answer = b-a\n",
        "    # Test input\n",
        "    if ans==answer:\n",
        "        print(\"Correct! \\n\")\n",
        "    else:\n",
        "        print(\"Try again\")\n",
        "        print(\"The correct answer is \", answer, \"\\n\")\n",
        "\n",
        "\n",
        "# One-step additon with negaive numbers\n",
        "def one_step_subtract():\n",
        "    import random\n",
        "    a = random.randint(-19,-1)\n",
        "    b = random.randint(2,24)\n",
        "    print(a, \" + x = \", b)\n",
        "    ans = float(input(\"x = \"))\n",
        "    # test\n",
        "    answer = b-a\n",
        "    if ans==answer:\n",
        "        print(\"Correct! \\n\")\n",
        "    else:\n",
        "        print(\"Try again\")\n",
        "        print(\"The correct answer is \", answer, \"\\n\")\n",
        "\n",
        "# One-step multiply\n",
        "def one_step_mult():\n",
        "    # Uses string_frac(<input string>)\n",
        "    import random\n",
        "    a = random.randint(1,11)\n",
        "    b = random.randint(2,24)\n",
        "    print(a, \"x = \", b)\n",
        "    print(\"Round your answer to two decimal places.\")\n",
        "    ans_in = (input(\"x = \"))\n",
        "    answer = round(b/a,2)\n",
        "    # test\n",
        "    if string_frac(ans_in)==answer:\n",
        "        print(\"Correct! \\n\")\n",
        "    else:\n",
        "        print(\"Try again\")\n",
        "        print(\"The correct answer is \", answer, \"\\n\")\n",
        "\n",
        "\n",
        "# One-step divide\n",
        "def one_step_div():\n",
        "    import random\n",
        "    a = random.randint(1,11)\n",
        "    b = random.randint(2,24)\n",
        "    print(\"x/\", a, \" = \", b)\n",
        "    ans = float(input(\"x = \"))\n",
        "    answer = b*a\n",
        "    # test\n",
        "    if ans==answer:\n",
        "        print(\"Correct! \\n\")\n",
        "    else:\n",
        "        print(\"Try again\")\n",
        "        print(\"The correct answer is \", answer, \"\\n\")\n",
        "\n",
        "\n",
        "# Two-step problems\n",
        "def two_step():\n",
        "    import random\n",
        "    # Uses string_frac()\n",
        "    a = random.randint(1,11)\n",
        "    b = random.randint(-7,12)\n",
        "    c = random.randint(2,36)\n",
        "    print(a, \"x + \", b, \" = \", c)\n",
        "    print(\"Round answer to two decimal places\")\n",
        "    ans_in = input(\"x = \")\n",
        "    answer = (c-b)/a\n",
        "    # test\n",
        "    if round(string_frac(ans_in),2)==round(answer,2):\n",
        "        print(\"Correct! \\n\")\n",
        "    else:\n",
        "        print(\"Try again\")\n",
        "        print(\"The correct answer is \", answer, \"\\n\")\n",
        "\n",
        "\n",
        "# test loop\n",
        "for a in range(2):\n",
        "    one_step_add()\n",
        "    one_step_subtract()\n",
        "    one_step_mult()\n",
        "    one_step_div()\n",
        "    two_step()\n",
        "    print(\" \")\n",
        "\n",
        "two_step()\n",
        "two_step()\n"
      ],
      "metadata": {
        "id": "u1GFOcOZYDgD"
      },
      "execution_count": null,
      "outputs": []
    },
    {
      "cell_type": "markdown",
      "source": [
        "# Converting fractions and decimals"
      ],
      "metadata": {
        "id": "67qFMu2K0g2G"
      }
    },
    {
      "cell_type": "markdown",
      "source": [
        "Positive and negative exponents"
      ],
      "metadata": {
        "id": "r7ohZEVCHbme"
      }
    },
    {
      "cell_type": "code",
      "source": [
        "print(10 ** 1)\n",
        "print(10 ** 2)\n",
        "print(10 ** 3)\n",
        "\n",
        "print(10 ** 0)\n",
        "\n",
        "print(10 ** -1)\n",
        "print(10 ** -2)\n",
        "print(10 ** -3)"
      ],
      "metadata": {
        "colab": {
          "base_uri": "https://localhost:8080/"
        },
        "id": "ugDtHWPz0j-7",
        "outputId": "2f4fc187-5338-42ed-d40e-dab704fea26b"
      },
      "execution_count": null,
      "outputs": [
        {
          "output_type": "stream",
          "name": "stdout",
          "text": [
            "10\n",
            "100\n",
            "1000\n",
            "1\n",
            "0.1\n",
            "0.01\n",
            "0.001\n"
          ]
        }
      ]
    },
    {
      "cell_type": "markdown",
      "source": [
        "User input comes in as a string. You can find the length of the string."
      ],
      "metadata": {
        "id": "4_62THnXHzGI"
      }
    },
    {
      "cell_type": "code",
      "source": [
        "text = input(\"Enter a number : \")\n",
        "print(text)\n",
        "\n",
        "print(len(text))"
      ],
      "metadata": {
        "colab": {
          "base_uri": "https://localhost:8080/"
        },
        "id": "sWm-OMlLIC9Q",
        "outputId": "6fd49874-197d-47f8-d73b-39fe104f0ad8"
      },
      "execution_count": null,
      "outputs": [
        {
          "output_type": "stream",
          "name": "stdout",
          "text": [
            "Enter a number : 98.09\n",
            "98.09\n",
            "5\n"
          ]
        }
      ]
    },
    {
      "cell_type": "markdown",
      "source": [
        "Cast input as a float or int variable"
      ],
      "metadata": {
        "id": "yLvFDRkHIflJ"
      }
    },
    {
      "cell_type": "code",
      "source": [
        "text = input(\"Enter a number : \")\n",
        "number = float(text)\n",
        "\n",
        "print(number + 4)\n",
        "\n"
      ],
      "metadata": {
        "colab": {
          "base_uri": "https://localhost:8080/"
        },
        "id": "8YctIcKJIh97",
        "outputId": "22f8bd8f-c5ec-41a3-af29-4f4ed3597ad2"
      },
      "execution_count": null,
      "outputs": [
        {
          "output_type": "stream",
          "name": "stdout",
          "text": [
            "Enter a number : 4.434\n",
            "8.434000000000001\n"
          ]
        }
      ]
    },
    {
      "cell_type": "markdown",
      "source": [
        "Now put it all together"
      ],
      "metadata": {
        "id": "Jg0xoXFvJgCW"
      }
    },
    {
      "cell_type": "code",
      "source": [
        "#Get string input, which will include a decimal point\n",
        "digits = input(\"Enter a decimal point to convert : \")\n",
        "\n",
        "#Get number of decimal places as an integer\n",
        "exponent = int(len(digits)) - 1\n",
        "\n",
        "#Convert the input to a float number\n",
        "n = float(digits)\n",
        "\n",
        "#Use the exponent to get the numerator\n",
        "numerator = int(n * 10 ** exponent)\n",
        "\n",
        "#Use the exponent to get the denominator\n",
        "denominator = 10 ** exponent\n",
        "\n",
        "#percent is the first two decimal places\n",
        "percent = n * 100\n",
        "\n",
        "#Output\n",
        "print(f\"The decimal is {n}\")\n",
        "print(f\"The fraction is {numerator}/{denominator}\")\n",
        "print(f\"The percent is {percent}%\")"
      ],
      "metadata": {
        "id": "JoUTRscZJiyZ"
      },
      "execution_count": null,
      "outputs": []
    },
    {
      "cell_type": "markdown",
      "source": [
        "Run this to generate practice problems"
      ],
      "metadata": {
        "id": "dsUkH4KZWkoY"
      }
    },
    {
      "cell_type": "code",
      "execution_count": null,
      "metadata": {
        "id": "tbyFnUTI6PD2"
      },
      "outputs": [],
      "source": [
        "# converts string input (even fractions) to float\n",
        "def string_frac(in_string):\n",
        "    if \"/\" in in_string:\n",
        "        nd = in_string.split(\"/\")\n",
        "        n = float(nd[0])\n",
        "        d = float(nd[1])\n",
        "        ans = n/d\n",
        "        return ans\n",
        "    else:\n",
        "        ans = float(in_string)\n",
        "        return ans\n",
        "\n",
        "\n",
        "# Decimal to fraction\n",
        "def dec_to_frac_test():\n",
        "    import random\n",
        "    import math\n",
        "    # Uses string_frac()\n",
        "    print(\"Convert the following decimal to a fraction\")\n",
        "    print(\"Just use the / to write your fraction\")\n",
        "    places = random.randint(1,4)\n",
        "    decimal = round(random.random(), places)\n",
        "    print(decimal)\n",
        "    d = 10**places\n",
        "    n = decimal*d\n",
        "    ans_in = input(\"Fraction: \")\n",
        "    if string_frac(ans_in)==decimal:\n",
        "        print(\"Correct! \\n\")\n",
        "    else:\n",
        "        print(\"Try again\")\n",
        "        print(\"The answer is \", n, \"/\", d)\n",
        "\n",
        "\n",
        "# Fraction to percent\n",
        "def frac_to_perc_test():\n",
        "    import random\n",
        "    print(\"Convert the following fraction to a percent\")\n",
        "    n = round(random.randint(1,99))\n",
        "    d = round(random.randint(2,200))\n",
        "    print(n, \"/\", d)\n",
        "    percent = round(n/d*100,2)\n",
        "    print(\"Round your answer to two decimal places\")\n",
        "    ans = float(input(\"Percent: \"))\n",
        "    if ans==percent:\n",
        "        print(\"Correct!\")\n",
        "    else:\n",
        "        print(\"Try again\")\n",
        "        print(\"The answer is \", percent)\n",
        "\n",
        "\n",
        "# test loop\n",
        "for a in range(3):\n",
        "    dec_to_frac_test()\n",
        "    frac_to_perc_test()\n",
        "    print(\" \")\n"
      ]
    },
    {
      "cell_type": "markdown",
      "source": [
        "# Functions and graphing"
      ],
      "metadata": {
        "id": "vIKLuWumQkl3"
      }
    },
    {
      "cell_type": "markdown",
      "source": [
        "Function and a table of(x,y) values"
      ],
      "metadata": {
        "id": "CChkh5CNS44k"
      }
    },
    {
      "cell_type": "code",
      "source": [
        "x = 5\n",
        "y = 4 * x + 3 #The function\n",
        "\n",
        "print(f\"{x}, {y}\")\n",
        "\n",
        "print (\"x \\t y\")\n",
        "\n",
        "for x in range(10):\n",
        "  y = 4 * x + 3\n",
        "  print(f\"{x} \\t {y}\")"
      ],
      "metadata": {
        "colab": {
          "base_uri": "https://localhost:8080/"
        },
        "id": "APgfYspyQnDN",
        "outputId": "52ab2023-8366-420a-f709-a26bfc5c760b"
      },
      "execution_count": null,
      "outputs": [
        {
          "output_type": "stream",
          "name": "stdout",
          "text": [
            "5, 23\n",
            "x \t y\n",
            "0 \t 3\n",
            "1 \t 7\n",
            "2 \t 11\n",
            "3 \t 15\n",
            "4 \t 19\n",
            "5 \t 23\n",
            "6 \t 27\n",
            "7 \t 31\n",
            "8 \t 35\n",
            "9 \t 39\n"
          ]
        }
      ]
    },
    {
      "cell_type": "markdown",
      "source": [
        "Defining a python function"
      ],
      "metadata": {
        "id": "h1Lnn-b6Tizz"
      }
    },
    {
      "cell_type": "code",
      "source": [
        "def f(x):\n",
        "  y = 4 * x + 3\n",
        "  return y\n",
        "\n",
        "  print(f\"5, {f(5)}\")\n",
        "\n",
        "\n",
        "  #Next in a loop\n",
        "  for x in range(10):\n",
        "    y = f(x)\n",
        "    print(f\"{x} \\t {f(x)}\")\n",
        "\n"
      ],
      "metadata": {
        "id": "DJkGsm1BTm2c"
      },
      "execution_count": null,
      "outputs": []
    },
    {
      "cell_type": "markdown",
      "source": [
        "Defining a basic graph"
      ],
      "metadata": {
        "id": "NLRphNAflFhb"
      }
    },
    {
      "cell_type": "code",
      "source": [
        "import matplotlib.pyplot as plt\n",
        "\n",
        "fig, ax = plt.subplots()\n",
        "plt.show()"
      ],
      "metadata": {
        "colab": {
          "base_uri": "https://localhost:8080/",
          "height": 435
        },
        "id": "kQ-EK0rPlH2x",
        "outputId": "716c80d8-185c-4703-af56-c87c9b7166e6"
      },
      "execution_count": null,
      "outputs": [
        {
          "output_type": "display_data",
          "data": {
            "text/plain": [
              "<Figure size 640x480 with 1 Axes>"
            ],
            "image/png": "[encoded data removed]"
          },
          "metadata": {}
        }
      ]
    },
    {
      "cell_type": "markdown",
      "source": [
        "Define dimensions of graph"
      ],
      "metadata": {
        "id": "jcpHuZdwl2C2"
      }
    },
    {
      "cell_type": "code",
      "source": [
        "import matplotlib.pyplot as plt\n",
        "\n",
        "fig, ax =  plt.subplots()\n",
        "\n",
        "#Dimensions\n",
        "\n",
        "plt.axis([-10, 10, -10, 10])\n",
        "\n",
        "plt.show()"
      ],
      "metadata": {
        "colab": {
          "base_uri": "https://localhost:8080/",
          "height": 435
        },
        "id": "Ufoes0Uml6ET",
        "outputId": "4c59a283-c4fa-449d-f297-95c53e595963"
      },
      "execution_count": null,
      "outputs": [
        {
          "output_type": "display_data",
          "data": {
            "text/plain": [
              "<Figure size 640x480 with 1 Axes>"
            ],
            "image/png": "[encoded data removed]"
          },
          "metadata": {}
        }
      ]
    },
    {
      "cell_type": "markdown",
      "source": [
        "A better way to set dimensions"
      ],
      "metadata": {
        "id": "hx09Gn1vmg4D"
      }
    },
    {
      "cell_type": "code",
      "source": [
        "import matplotlib.pyplot as plt\n",
        "\n",
        "fig, ax = plt.subplots()\n",
        "\n",
        "x_min = -10\n",
        "x_max = 10\n",
        "y_min = -10\n",
        "y_max = 10\n",
        "\n",
        "plt.axis([x_min, x_max, y_min, y_max]) #Window size\n",
        "\n",
        "plt.show()"
      ],
      "metadata": {
        "colab": {
          "base_uri": "https://localhost:8080/",
          "height": 435
        },
        "id": "3gmW3X9mmnuR",
        "outputId": "0755cb96-a8d9-405d-95c2-d19ac99a6c1c"
      },
      "execution_count": null,
      "outputs": [
        {
          "output_type": "display_data",
          "data": {
            "text/plain": [
              "<Figure size 640x480 with 1 Axes>"
            ],
            "image/png": "[encoded data removed]"
          },
          "metadata": {}
        }
      ]
    },
    {
      "cell_type": "markdown",
      "source": [
        "Display axis lines"
      ],
      "metadata": {
        "id": "3Au4XsCynDzR"
      }
    },
    {
      "cell_type": "code",
      "source": [
        "import matplotlib.pyplot as plt\n",
        "\n",
        "x_min = -10\n",
        "x_max = 10\n",
        "y_min = -10\n",
        "y_max = 10\n",
        "\n",
        "fig, ax = plt.subplots()\n",
        "plt.axis([x_min, x_max, y_min, y_max])\n",
        "\n",
        "plt.plot([x_min,x_max], [0,0], color = 'red')\n",
        "plt.plot([0,0], [y_min,y_max], color = 'black')\n",
        "\n",
        "plt.show()\n",
        "plt.show()"
      ],
      "metadata": {
        "colab": {
          "base_uri": "https://localhost:8080/",
          "height": 435
        },
        "id": "ot-5ABbsnFbO",
        "outputId": "2f304bc8-0b11-4285-f571-d05c33268a8d"
      },
      "execution_count": null,
      "outputs": [
        {
          "output_type": "display_data",
          "data": {
            "text/plain": [
              "<Figure size 640x480 with 1 Axes>"
            ],
            "image/png": "[encoded data removed]"
          },
          "metadata": {}
        }
      ]
    },
    {
      "cell_type": "markdown",
      "source": [
        "Plot one point"
      ],
      "metadata": {
        "id": "OGTNgojyn7Px"
      }
    },
    {
      "cell_type": "code",
      "source": [
        "x_min = -10\n",
        "x_max = 10\n",
        "y_min = -10\n",
        "y_max = 10\n",
        "\n",
        "fig, ax = plt.subplots()\n",
        "plt.axis([x_min, x_max, y_min, y_max])\n",
        "\n",
        "plt.plot([x_min,x_max], [0,0], color = 'red')\n",
        "plt.plot([0,0], [y_min,y_max], color = 'black')\n",
        "\n",
        "plt.plot([5], [4], \"ro\")\n",
        "\n",
        "plt.show()"
      ],
      "metadata": {
        "colab": {
          "base_uri": "https://localhost:8080/",
          "height": 435
        },
        "id": "cwDR-_i_ofPY",
        "outputId": "542e6556-07e9-45a0-dd52-51b279689ca2"
      },
      "execution_count": null,
      "outputs": [
        {
          "output_type": "display_data",
          "data": {
            "text/plain": [
              "<Figure size 640x480 with 1 Axes>"
            ],
            "image/png": "[encoded data removed]"
          },
          "metadata": {}
        }
      ]
    },
    {
      "cell_type": "markdown",
      "source": [
        "Plot several points as a function"
      ],
      "metadata": {
        "id": "g9tceVHuov6X"
      }
    },
    {
      "cell_type": "code",
      "source": [
        "import matplotlib.pyplot as plt\n",
        "\n",
        "x_min = -10\n",
        "x_max = 10\n",
        "y_min = -10\n",
        "y_max = 10\n",
        "\n",
        "fig, ax = plt.subplots()\n",
        "plt.axis([x_min, x_max, y_min, y_max])\n",
        "plt.plot([x_min, x_max], [0,0], color = \"red\")\n",
        "plt.plot([0, 0], [y_min, y_max], color = \"blue\")\n",
        "\n",
        "for x in range(10):\n",
        "  y = 0.5 * x + 5\n",
        "  plt.plot([x], [y], \"ro\")\n",
        "\n",
        "plt.show()"
      ],
      "metadata": {
        "colab": {
          "base_uri": "https://localhost:8080/",
          "height": 435
        },
        "id": "tv_kCtsBoG6o",
        "outputId": "0042e1c3-26cc-4187-9d93-c3f58415fe76"
      },
      "execution_count": null,
      "outputs": [
        {
          "output_type": "display_data",
          "data": {
            "text/plain": [
              "<Figure size 640x480 with 1 Axes>"
            ],
            "image/png": "[encoded data removed]"
          },
          "metadata": {}
        }
      ]
    },
    {
      "cell_type": "markdown",
      "source": [
        "Graph and table of (x, y) values"
      ],
      "metadata": {
        "id": "6TiyslPPqgM1"
      }
    },
    {
      "cell_type": "code",
      "source": [
        "import matplotlib.pyplot as plt\n",
        "\n",
        "x_min = -10\n",
        "x_max = 10\n",
        "y_min = -10\n",
        "y_max = 10\n",
        "\n",
        "fig, ax = plt.subplots()\n",
        "\n",
        "plt.axis([x_min, x_max, y_min, y_max])\n",
        "plt.plot([x_min, x_max], [0, 0], color = \"blue\")\n",
        "plt.plot([0, 0], [y_min, y_max], color = \"red\")\n",
        "\n",
        "print(\"x \\t y\")\n",
        "\n",
        "for x in range(10):\n",
        "  y = 0.3 * x + 3\n",
        "\n",
        "  plt.plot([x], [y], \"ro\")\n",
        "\n",
        "  print(f\"{x} \\t {y}\")\n",
        "\n",
        "plt.show()"
      ],
      "metadata": {
        "colab": {
          "base_uri": "https://localhost:8080/",
          "height": 626
        },
        "id": "i8s-njtqq0Qt",
        "outputId": "375e6d18-46a4-44fe-f0dc-9c9e42018a8b"
      },
      "execution_count": null,
      "outputs": [
        {
          "output_type": "stream",
          "name": "stdout",
          "text": [
            "x \t y\n",
            "0 \t 3.0\n",
            "1 \t 3.3\n",
            "2 \t 3.6\n",
            "3 \t 3.9\n",
            "4 \t 4.2\n",
            "5 \t 4.5\n",
            "6 \t 4.8\n",
            "7 \t 5.1\n",
            "8 \t 5.4\n",
            "9 \t 5.699999999999999\n"
          ]
        },
        {
          "output_type": "display_data",
          "data": {
            "text/plain": [
              "<Figure size 640x480 with 1 Axes>"
            ],
            "image/png": "[encoded data removed]"
          },
          "metadata": {}
        }
      ]
    },
    {
      "cell_type": "markdown",
      "source": [
        "Loop through function inputs"
      ],
      "metadata": {
        "id": "YrPbhUhQY0VH"
      }
    },
    {
      "cell_type": "code",
      "execution_count": null,
      "metadata": {
        "id": "yJiVB8wdHRxS",
        "colab": {
          "base_uri": "https://localhost:8080/",
          "height": 435
        },
        "outputId": "23a0c904-efcb-4a9c-8b06-e0c8d012e749"
      },
      "outputs": [
        {
          "output_type": "display_data",
          "data": {
            "text/plain": [
              "<Figure size 640x480 with 1 Axes>"
            ],
            "image/png": "[encoded data removed]"
          },
          "metadata": {}
        }
      ],
      "source": [
        "import matplotlib.pyplot as plt\n",
        "\n",
        "xmin = -10\n",
        "xmax = 10\n",
        "ymin = -10\n",
        "ymax = 10\n",
        "\n",
        "fig, ax = plt.subplots()\n",
        "plt.axis([xmin,xmax,ymin,ymax]) # window size\n",
        "plt.plot([xmin,xmax],[0,0],'b') # blue x axis\n",
        "plt.plot([0,0],[ymin,ymax], 'b') # blue y axis\n",
        "\n",
        "for x in range(10):\n",
        "    y = 0.5*x + 1\n",
        "    plt.plot([x],[y], 'ro')\n",
        "\n",
        "plt.show()\n"
      ]
    },
    {
      "cell_type": "markdown",
      "source": [
        "Use an array as inputs"
      ],
      "metadata": {
        "id": "vvuzPPbYY5N7"
      }
    },
    {
      "cell_type": "code",
      "source": [
        "import matplotlib.pyplot as plt\n",
        "import numpy as np\n",
        "\n",
        "xmin = -10\n",
        "xmax = 10\n",
        "ymin = -10\n",
        "ymax = 10\n",
        "points = 2*(xmax-xmin)\n",
        "x = np.linspace(xmin, xmax, points)\n",
        "\n",
        "fig, ax = plt.subplots()\n",
        "plt.axis([xmin,xmax,ymin,ymax]) # window size\n",
        "plt.plot([xmin,xmax],[0,0],'b') # blue x axis\n",
        "plt.plot([0,0],[ymin,ymax], 'b') # blue y axis\n",
        "\n",
        "y = 2*x +1\n",
        "plt.plot(x,y, 'pink')\n",
        "\n",
        "plt.show()"
      ],
      "metadata": {
        "colab": {
          "base_uri": "https://localhost:8080/",
          "height": 435
        },
        "id": "16HtjpNAIJOm",
        "outputId": "119cf8a6-5b21-46ab-9fc7-8ba48764ae2e"
      },
      "execution_count": null,
      "outputs": [
        {
          "output_type": "display_data",
          "data": {
            "text/plain": [
              "<Figure size 640x480 with 1 Axes>"
            ],
            "image/png": "[encoded data removed]"
          },
          "metadata": {}
        }
      ]
    },
    {
      "cell_type": "markdown",
      "source": [
        "More ways to customize a graph"
      ],
      "metadata": {
        "id": "eEKGtD0AZEHd"
      }
    },
    {
      "cell_type": "code",
      "source": [
        "import matplotlib.pyplot as plt\n",
        "import numpy as np\n",
        "\n",
        "xmin = -10\n",
        "xmax = 10\n",
        "ymin = -10\n",
        "ymax = 10\n",
        "points = 2*(xmax-xmin)\n",
        "x = np.linspace(xmin, xmax, points)\n",
        "\n",
        "fig, ax = plt.subplots()\n",
        "plt.axis([xmin,xmax,ymin,ymax]) # window size\n",
        "plt.plot([xmin,xmax],[0,0],'b') # blue x axis\n",
        "plt.plot([0,0],[ymin,ymax], 'b') # blue y axis\n",
        "\n",
        "ax.set_xlabel(\"x values\")\n",
        "ax.set_ylabel(\"y values\")\n",
        "ax.set_title(\"Some Graph\")\n",
        "ax.grid(True)\n",
        "\n",
        "ax.set_xticks(np.arange(xmin, xmax, 1))\n",
        "ax.set_yticks(np.arange(ymin, ymax, 1))\n",
        "\n",
        "y = 2*x +1\n",
        "plt.plot(x,y, label='y=2x+1')\n",
        "plt.plot([4],[6], 'ro', label='point')\n",
        "plt.plot(x,3*x, label='steeper line')\n",
        "plt.legend()\n",
        "plt.show()\n"
      ],
      "metadata": {
        "colab": {
          "base_uri": "https://localhost:8080/",
          "height": 472
        },
        "id": "GLaAeuGxX2DU",
        "outputId": "47b1e162-139a-486a-f979-863a0f286647"
      },
      "execution_count": null,
      "outputs": [
        {
          "output_type": "display_data",
          "data": {
            "text/plain": [
              "<Figure size 640x480 with 1 Axes>"
            ],
            "image/png": "[encoded data removed]"
          },
          "metadata": {}
        }
      ]
    },
    {
      "cell_type": "markdown",
      "source": [
        "Use an array as an input"
      ],
      "metadata": {
        "id": "K-fkILoE7caO"
      }
    },
    {
      "cell_type": "code",
      "source": [
        "import matplotlib.pyplot as plt\n",
        "import numpy as np\n",
        "\n",
        "xmin = -10\n",
        "xmax = 10\n",
        "ymin = -10\n",
        "ymax = 10\n",
        "\n",
        "points = 2*(xmax-xmin)\n",
        "x = np.linspace(xmin, xmax, points)\n",
        "\n",
        "fig, ax = plt.subplots()\n",
        "plt.axis([xmin, xmax, ymin, ymax])\n",
        "plt.plot([xmin, xmax], [0, 0], color = \"blue\")\n",
        "plt.plot([0, 0], [ymin, ymax], color = \"red\")\n",
        "\n",
        "y = 2*x + 3\n",
        "plt.plot(x, y, \"pink\")\n",
        "\n",
        "plt.show()\n"
      ],
      "metadata": {
        "colab": {
          "base_uri": "https://localhost:8080/",
          "height": 435
        },
        "id": "YDEOv35e7g3S",
        "outputId": "e4566c19-1ef0-46af-ac83-9adb684d1c9e"
      },
      "execution_count": null,
      "outputs": [
        {
          "output_type": "display_data",
          "data": {
            "text/plain": [
              "<Figure size 640x480 with 1 Axes>"
            ],
            "image/png": "[encoded data removed]"
          },
          "metadata": {}
        }
      ]
    },
    {
      "cell_type": "markdown",
      "source": [
        "More ways to customize a graph"
      ],
      "metadata": {
        "id": "iP1HjxNwA38P"
      }
    },
    {
      "cell_type": "code",
      "source": [
        "import matplotlib.pyplot as plt\n",
        "import numpy as np\n",
        "\n",
        "xmin = -10\n",
        "xmax = 10\n",
        "ymin = -10\n",
        "ymax = 10\n",
        "\n",
        "points = 2*(xmax - xmin)\n",
        "x = np.linspace(xmin, xmax, points)\n",
        "\n",
        "fig, ax = plt.subplots()\n",
        "plt.axis([[xmin, xmax, ymin, ymax]]) #window size\n",
        "plt.plot([xmin, xmax], [0, 0], color = \"blue\") #blue x axis\n",
        "plt.plot([0, 0], [ymin, ymax], color = \"black\") # blue y axis\n",
        "\n",
        "ax.set_xlabel(\"x values\")\n",
        "ax.set_ylabel(\"y values\")\n",
        "ax.set_title(\"some graph \")\n",
        "ax.grid(True)\n",
        "\n",
        "ax.set_xticks(np.arrange(xmin, xmax, 1))\n",
        "ax.set_yticks(np.arrange(ymin, ymax, 1))\n",
        "\n",
        "y = 2 * x + 1\n",
        "plt.plot(x, y, label = \"y = 2 * x + 1\")\n",
        "plt.plot(x, 0.5 * x + 3, label = \"steeper line \")\n",
        "plt.legend()\n",
        "plt.show()"
      ],
      "metadata": {
        "id": "gYw5A8p_A8Av"
      },
      "execution_count": null,
      "outputs": []
    },
    {
      "cell_type": "markdown",
      "source": [
        "# Linear Functions"
      ],
      "metadata": {
        "id": "adq5uTc_nkdx"
      }
    },
    {
      "cell_type": "markdown",
      "source": [
        "Slope"
      ],
      "metadata": {
        "id": "uFMeA-12nvMK"
      }
    },
    {
      "cell_type": "code",
      "source": [
        "x1 = 1\n",
        "y1 = 7\n",
        "x2 = 2\n",
        "y2 = 10\n",
        "\n",
        "slope = (y2 - y1) / (x2 - x1)\n",
        "\n",
        "print(f\"Slope = {slope}\")"
      ],
      "metadata": {
        "id": "k21bgjV2nwGf"
      },
      "execution_count": null,
      "outputs": []
    },
    {
      "cell_type": "markdown",
      "source": [
        "Next developing equations..."
      ],
      "metadata": {
        "id": "kRPAoLIEqFaE"
      }
    },
    {
      "cell_type": "code",
      "source": [
        "x1 = 1\n",
        "y1 = 2\n",
        "x2 = 4\n",
        "y2 = 6\n",
        "\n",
        "# The slope is m\n",
        "m = (y2 - y1)/ (x2 - x1)\n",
        "\n",
        "# The y itercept is \"b\"\n",
        "b = y1 - m * x1\n",
        "\n",
        "#The full equation\n",
        "print(f\"y = {m}x + {b}\")"
      ],
      "metadata": {
        "colab": {
          "base_uri": "https://localhost:8080/"
        },
        "id": "0ea7YO05qH1s",
        "outputId": "b80e8e14-223f-49d2-b231-8622aea5b04b"
      },
      "execution_count": null,
      "outputs": [
        {
          "output_type": "stream",
          "name": "stdout",
          "text": [
            "y = 1.3333333333333333x + 0.6666666666666667\n"
          ]
        }
      ]
    },
    {
      "cell_type": "markdown",
      "source": [
        "Also display the graph"
      ],
      "metadata": {
        "id": "VQ4b45D-rlJX"
      }
    },
    {
      "cell_type": "code",
      "source": [
        "import matplotlib.pyplot as plt\n",
        "\n",
        "x1 = 1\n",
        "y1 = 7\n",
        "x2 = 2\n",
        "y2 = 10\n",
        "\n",
        "# Develop the equation y = mx + b\n",
        "m = (y2 - y1) / (x2 - x1)\n",
        "b = y1 - m * x1\n",
        "print(f\"y = {m}x + {b}\")\n",
        "\n",
        "#For the graph\n",
        "xmin = -10\n",
        "xmax = 10\n",
        "ymin = -10\n",
        "ymax = 10\n",
        "\n",
        "#For the line on the graph\n",
        "y3 = m * xmin + b\n",
        "y4 = m * xmax + b\n",
        "\n",
        "# Basic setup for the graph\n",
        "fig, ax = plt.subplots()\n",
        "plt.axis([xmin, xmax, ymin, ymax])\n",
        "plt.plot([xmin,xmax], [0,0], 'b')\n",
        "plt.plot([0, 0], [ymin, ymax], 'b')\n",
        "\n",
        "plt.plot([xmin, xmax], [y3, y4], \"r\")\n",
        "\n",
        "plt.show()\n"
      ],
      "metadata": {
        "colab": {
          "base_uri": "https://localhost:8080/",
          "height": 452
        },
        "id": "nPvYtF2jrnFH",
        "outputId": "55d1d0a5-9bb8-466c-c070-f6a64604c071"
      },
      "execution_count": null,
      "outputs": [
        {
          "output_type": "stream",
          "name": "stdout",
          "text": [
            "y = 3.0x + 4.0\n"
          ]
        },
        {
          "output_type": "display_data",
          "data": {
            "text/plain": [
              "<Figure size 640x480 with 1 Axes>"
            ],
            "image/png": "[encoded data removed]"
          },
          "metadata": {}
        }
      ]
    },
    {
      "cell_type": "markdown",
      "source": [
        "25. A town's population increases at a constant rate. In 2010 the population was 55,000. By 2012 the population had increased to 76,000. If this trend continues, predict the population in 2016."
      ],
      "metadata": {
        "id": "PBQ2KvEnKgBg"
      }
    },
    {
      "cell_type": "code",
      "source": [
        "import matplotlib.pyplot as plt\n",
        "\n",
        "x1 = 0\n",
        "y1 = 55\n",
        "x2 = 6\n",
        "y2 = 76\n",
        "\n",
        "#Develop the equation y = mx + b\n",
        "m = (y2 - y1) / (x2 - x1)\n",
        "b = y1 - m * x1\n",
        "print(f\"y = {m}x + {b}\")\n",
        "\n",
        "#For the graph\n",
        "xmin = 0\n",
        "xmax = 10\n",
        "ymin = 0\n",
        "ymax = 150\n",
        "\n",
        "#For the line on the graph\n",
        "y3 = m * xmin + b\n",
        "y4 = m * xmax + b\n",
        "\n",
        "#Basic setup for the graph\n",
        "fig, ax = plt.subplots()\n",
        "plt.axis([xmin, xmax, ymin, ymax])\n",
        "plt.plot([xmin, xmax], [0, 0], 'b')\n",
        "plt.plot([0, 0], [ymin, ymax], 'b')\n",
        "ax.set_xlabel(\"Years\")\n",
        "ax.set_ylabel(\"Population\")\n",
        "ax.set_title(\"Town Population\")\n",
        "ax.grid(True)\n",
        "\n",
        "plt.plot([xmin, xmax], [y3, y4], \"r\", label = \"Town population\")\n",
        "plt.legend()\n",
        "plt.show()\n"
      ],
      "metadata": {
        "colab": {
          "base_uri": "https://localhost:8080/",
          "height": 489
        },
        "id": "GNFECmiALCAe",
        "outputId": "2ab695f8-6c0e-41d5-86a2-b9076999212d"
      },
      "execution_count": null,
      "outputs": [
        {
          "output_type": "stream",
          "name": "stdout",
          "text": [
            "y = 3.5x + 55.0\n"
          ]
        },
        {
          "output_type": "display_data",
          "data": {
            "text/plain": [
              "<Figure size 640x480 with 1 Axes>"
            ],
            "image/png": "[encoded data removed]"
          },
          "metadata": {}
        }
      ]
    },
    {
      "cell_type": "markdown",
      "source": [
        "26. Thue number of people afflicted with the common cold in the winter months dropped steadily by 50 each year since 2004 until 2010. In 2004, 875 people were inflicted.\n",
        "\n",
        "Find the linear function that models the number of people afflicted with the common cold ${C}$ as a function of the year, ${t}$. When will no one be afflicted ?"
      ],
      "metadata": {
        "id": "OwUT-kVad7fZ"
      }
    },
    {
      "cell_type": "code",
      "source": [
        "import matplotlib.pyplot as plt\n",
        "\n",
        "x1 = 0\n",
        "y1 = 875\n",
        "x2 = 1\n",
        "y2 = 825\n",
        "\n",
        "#Develop the equation y = mx + b\n",
        "m = (y2 - y1) / (x2 - x1)\n",
        "b = y1 - m * x1\n",
        "print(f\"y = {m}x + {b}\")\n",
        "\n",
        "#For the graph\n",
        "xmin = 0\n",
        "xmax = 10\n",
        "ymin = 0\n",
        "ymax = 900\n",
        "\n",
        "#For the line on the graph\n",
        "y3 = m * xmin + b\n",
        "y4 = m * xmax + b\n",
        "\n",
        "#Basic setup for the graph\n",
        "fig, ax = plt.subplots()\n",
        "plt.axis([xmin, xmax, ymin, ymax])\n",
        "plt.plot([xmin, xmax], [0, 0], 'b')\n",
        "plt.plot([0, 0], [ymin, ymax], 'b')\n",
        "ax.set_xlabel(\"Years\")\n",
        "ax.set_ylabel(\"Population\")\n",
        "ax.set_title(\"Population with cold afflicted\")\n",
        "ax.grid(True)\n",
        "\n",
        "\n",
        "plt.plot([xmin, xmax], [y3, y4], \"r\", label = \"Population with cold\")\n",
        "plt.legend()\n",
        "plt.show()\n"
      ],
      "metadata": {
        "colab": {
          "base_uri": "https://localhost:8080/",
          "height": 489
        },
        "id": "fi4QhG3rfmWy",
        "outputId": "4fbc9b3a-b146-4cb4-c4a1-1975e2a62af1"
      },
      "execution_count": null,
      "outputs": [
        {
          "output_type": "stream",
          "name": "stdout",
          "text": [
            "y = -50.0x + 875.0\n"
          ]
        },
        {
          "output_type": "display_data",
          "data": {
            "text/plain": [
              "<Figure size 640x480 with 1 Axes>"
            ],
            "image/png": "[encoded data removed]"
          },
          "metadata": {}
        }
      ]
    },
    {
      "cell_type": "markdown",
      "source": [
        "For the following excercises, use the graph in Figure 1, showing the profit, y, in thousands of dollars, of a company in a given year, x, where x represents years since 1980."
      ],
      "metadata": {
        "id": "Ih7uAUhcmI72"
      }
    },
    {
      "cell_type": "code",
      "source": [
        "import matplotlib.pyplot as plt\n",
        "\n",
        "x1 = 5\n",
        "y1 = 10\n",
        "x2 = 25\n",
        "y2 = 4\n",
        "\n",
        "#Develop the equation y = mx + b\n",
        "m = (y2 - y1) / (x2 - x1)\n",
        "b = y1 - m * x1\n",
        "print(f\"y = {m}x + {b}\")\n",
        "\n",
        "#For the graph\n",
        "xmin = 0\n",
        "xmax = 25\n",
        "ymin = 0\n",
        "ymax = 12\n",
        "\n",
        "#For the line on the graph\n",
        "y3 = m * xmin + b\n",
        "y4 = m * xmax + b\n",
        "\n",
        "#Basic setup for the graph\n",
        "fig, ax = plt.subplots()\n",
        "plt.axis([xmin, xmax, ymin, ymax])\n",
        "plt.plot([xmin, xmax], [0, 0], 'b')\n",
        "plt.plot([0, 0], [ymin, ymax], 'b')\n",
        "ax.set_xlabel(\"Years\")\n",
        "ax.set_ylabel(\"Profit\")\n",
        "ax.set_title(\"Profit of a company\")\n",
        "ax.grid(True)\n",
        "\n",
        "\n",
        "plt.plot([xmin, xmax], [y3, y4], \"r\", label = \"Profit of a company\")\n",
        "plt.legend()\n",
        "plt.show()"
      ],
      "metadata": {
        "colab": {
          "base_uri": "https://localhost:8080/",
          "height": 489
        },
        "id": "xInyLcUomnSR",
        "outputId": "cabfb87d-db95-4ce1-e0be-5e0bbcbff324"
      },
      "execution_count": null,
      "outputs": [
        {
          "output_type": "stream",
          "name": "stdout",
          "text": [
            "y = -0.3x + 11.5\n"
          ]
        },
        {
          "output_type": "display_data",
          "data": {
            "text/plain": [
              "<Figure size 640x480 with 1 Axes>"
            ],
            "image/png": "[encoded data removed]"
          },
          "metadata": {}
        }
      ]
    },
    {
      "cell_type": "markdown",
      "source": [
        "27. Find the linear function y, where y depends on x, the number of years since 1980."
      ],
      "metadata": {
        "id": "EbpcTRH4nbKY"
      }
    },
    {
      "cell_type": "markdown",
      "source": [
        "For the following excercise, consider this scenario: In 2004, a school population was 1,700. By 2012 the population had grown to 2,500."
      ],
      "metadata": {
        "id": "4escXP2cD8lT"
      }
    },
    {
      "cell_type": "markdown",
      "source": [
        "Assume the population is changing linearly.\n",
        "How much did the population grow between the year 2004 and 2012?\n",
        "What is the average population growth per year ?\n",
        "Find and equation for the population, P, of the school t years after 2004."
      ],
      "metadata": {
        "id": "hbLsMVb3EZQH"
      }
    },
    {
      "cell_type": "code",
      "source": [
        "import matplotlib.pyplot as plt\n",
        "\n",
        "x1 = 0\n",
        "y1 = 1700\n",
        "x2 = 8\n",
        "y2 = 2500\n",
        "\n",
        "#Develop the equation y = mx + b\n",
        "m = (y2 - y1) / (x2 - x1)\n",
        "b = y1 - m * x1\n",
        "print(f\"y = {m}x + {b}\")\n",
        "\n",
        "#For the graph\n",
        "xmin = 0\n",
        "xmax = 12\n",
        "ymin = 1000\n",
        "ymax = 3000\n",
        "\n",
        "#For the line on the graph\n",
        "y3 = m * xmin + b\n",
        "y4 = m * xmax + b\n",
        "\n",
        "#Basic setup for the graph\n",
        "fig, ax = plt.subplots()\n",
        "plt.axis([xmin, xmax, ymin, ymax])\n",
        "plt.plot([xmin, xmax], [0, 0], 'b')\n",
        "plt.plot([0, 0], [ymin, ymax], 'b')\n",
        "ax.set_xlabel(\"Years\")\n",
        "ax.set_ylabel(\"No of students\")\n",
        "ax.set_title(\"No of Students/ Year\")\n",
        "ax.grid(True)\n",
        "\n",
        "\n",
        "plt.plot([xmin, xmax], [y3, y4], \"r\", label = \"No of students/ Year\")\n",
        "plt.legend()\n",
        "plt.show()"
      ],
      "metadata": {
        "colab": {
          "base_uri": "https://localhost:8080/",
          "height": 489
        },
        "id": "UPZfhutwnnYX",
        "outputId": "463a37ac-8847-4af9-d8ce-d4fb1f77b124"
      },
      "execution_count": null,
      "outputs": [
        {
          "output_type": "stream",
          "name": "stdout",
          "text": [
            "y = 100.0x + 1700.0\n"
          ]
        },
        {
          "output_type": "display_data",
          "data": {
            "text/plain": [
              "<Figure size 640x480 with 1 Axes>"
            ],
            "image/png": "[encoded data removed]"
          },
          "metadata": {}
        }
      ]
    },
    {
      "cell_type": "markdown",
      "source": [
        "88. The amount of garbage, G, produced by a city with population $p$ is given by $G=f(p)$. $G$ is measured in tons per week, and $p$ is measured in thousands of people.\n",
        "\n",
        "**a.** The town of Tola has a population of 40,000 and produces 13 tons of garbage each week. Express this in terms of function $f$.\n",
        "\n",
        "**b.** Explain the meaning of $f(5) = 2$."
      ],
      "metadata": {
        "id": "2xs2ZcJQINhr"
      }
    },
    {
      "cell_type": "code",
      "source": [
        "import matplotlib.pyplot as plt\n",
        "\n",
        "x1 = 0\n",
        "y1 = 0\n",
        "x2 = 40\n",
        "y2 = 13\n",
        "\n",
        "#Develop the equation y = mx + b\n",
        "m = (y2 - y1) / (x2 - x1)\n",
        "b = y1 - m * x1\n",
        "print(f\"y = {m}x + {b}\")\n",
        "\n",
        "#For the graph\n",
        "xmin = 0\n",
        "xmax = 50\n",
        "ymin = 5\n",
        "ymax = 20\n",
        "\n",
        "#For the line on the graph\n",
        "y3 = m * xmin + b\n",
        "y4 = m * xmax + b\n",
        "\n",
        "#Basic setup for the graph\n",
        "fig, ax = plt.subplots()\n",
        "plt.axis([xmin, xmax, ymin, ymax])\n",
        "plt.plot([xmin, xmax], [0, 0], 'b')\n",
        "plt.plot([0, 0], [ymin, ymax], 'b')\n",
        "ax.set_xlabel(\"Thousands\")\n",
        "ax.set_ylabel(\"Tons\")\n",
        "ax.set_title(\"Tons of Garbage / Population\")\n",
        "ax.grid(True)\n",
        "\n",
        "\n",
        "plt.plot([xmin, xmax], [y3, y4], \"r\", label = \"No of students/ Year\")\n",
        "plt.legend()\n",
        "plt.show()"
      ],
      "metadata": {
        "id": "x6evFALJJYDo"
      },
      "execution_count": null,
      "outputs": []
    },
    {
      "cell_type": "markdown",
      "source": [
        "**60.** The height of a $h$ of a projectile of the time $t$ it is in the air. The height in feet for $t$ seconds is given by the function $h(t) = -16t^2 + 96t $? What is the domain mean in the context of the problem ?"
      ],
      "metadata": {
        "id": "GaXFPwwmOKg_"
      }
    },
    {
      "cell_type": "code",
      "source": [
        "import sympy\n",
        "from sympy import symbols\n",
        "from sympy.solvers import solve\n",
        "\n",
        "t = symbols('t')\n",
        "eq = -16 * t ** 2 + 96 * t\n",
        "\n",
        "solution = solve(eq, t)\n",
        "print(f\"x = {solution}\")"
      ],
      "metadata": {
        "colab": {
          "base_uri": "https://localhost:8080/"
        },
        "id": "Q3BwNnx8fvW5",
        "outputId": "a833f309-57fd-401a-c788-5e8f103d7ece"
      },
      "execution_count": null,
      "outputs": [
        {
          "output_type": "stream",
          "name": "stdout",
          "text": [
            "[0, 6]\n"
          ]
        }
      ]
    },
    {
      "cell_type": "markdown",
      "source": [
        "# Factors and Square Roots\n",
        "Factoring"
      ],
      "metadata": {
        "id": "UMPWq87ewyiT"
      }
    },
    {
      "cell_type": "markdown",
      "source": [
        "The modulus (%) finds the remainder"
      ],
      "metadata": {
        "id": "jStpZLcoxHs0"
      }
    },
    {
      "cell_type": "code",
      "source": [
        "print(5 % 3)\n",
        "\n",
        "print(31 % 10)"
      ],
      "metadata": {
        "colab": {
          "base_uri": "https://localhost:8080/"
        },
        "id": "n1DUE-AyxeSW",
        "outputId": "edb196fe-0103-40c3-c282-ea4d85acd3bc"
      },
      "execution_count": null,
      "outputs": [
        {
          "output_type": "stream",
          "name": "stdout",
          "text": [
            "2\n",
            "1\n"
          ]
        }
      ]
    },
    {
      "cell_type": "markdown",
      "source": [
        "Use the modulus in a loop to find factors"
      ],
      "metadata": {
        "id": "xqaQovC3xlSp"
      }
    },
    {
      "cell_type": "code",
      "source": [
        "\n",
        "number = 12\n",
        "\n",
        "#Find all factors\n",
        "\n",
        "for test_factor in range(1, number + 1):\n",
        "    if number % test_factor == 0:\n",
        "        print(test_factor)"
      ],
      "metadata": {
        "colab": {
          "base_uri": "https://localhost:8080/"
        },
        "id": "Zh0bugJpxrRT",
        "outputId": "8ab5a11e-225b-4e62-d690-e405e15ec1de"
      },
      "execution_count": null,
      "outputs": [
        {
          "output_type": "stream",
          "name": "stdout",
          "text": [
            "1\n",
            "2\n",
            "3\n",
            "4\n",
            "6\n",
            "12\n"
          ]
        }
      ]
    },
    {
      "cell_type": "markdown",
      "source": [
        "Reduce Fractions to lowest terms"
      ],
      "metadata": {
        "id": "OK3PQo34yrr4"
      }
    },
    {
      "cell_type": "code",
      "source": [
        "numerator = 12\n",
        "denominator = 24\n",
        "factor = 1\n",
        "\n",
        "#Find greatest common factor\n",
        "for test_factor in range(1, denominator + 1):\n",
        "  if numerator % test_factor == 0 and denominator % test_factor == 0:\n",
        "    factor = test_factor\n",
        "\n",
        "#Divide out greatest common factor\n",
        "n = int(numerator / factor)\n",
        "d = int(denominator / factor)\n",
        "\n",
        "print(f\"The fraction {numerator}/{denominator} is reduced to {n}/{d}\")\n"
      ],
      "metadata": {
        "colab": {
          "base_uri": "https://localhost:8080/"
        },
        "id": "iqulbEn-0hTX",
        "outputId": "9eddd30c-8a8d-4be5-dce4-8f1d79b36afb"
      },
      "execution_count": null,
      "outputs": [
        {
          "output_type": "stream",
          "name": "stdout",
          "text": [
            "The fraction 12/24 is reduced to 1/2\n"
          ]
        }
      ]
    },
    {
      "cell_type": "markdown",
      "source": [
        "You can add this code to the decimal to fraction code"
      ],
      "metadata": {
        "id": "WT53SpTshDDH"
      }
    },
    {
      "cell_type": "code",
      "source": [
        "#Get the decimal number to convert\n",
        "digits = input(\"Enter the decimal number to convert : \")\n",
        "\n",
        "#Convert to fraction\n",
        "exponent = int(len(digits)) - 1\n",
        "n = float(digits)\n",
        "numerator = int(n * 10 ** exponent)\n",
        "denominator = 10 ** exponent\n",
        "\n",
        "#Reduce that fraction\n",
        "factor = 1\n",
        "for test_factor in range(1, denominator + 1):\n",
        "  if numerator % test_factor == 0 and denominator % test_factor == 0:\n",
        "    factor = test_factor\n",
        "\n",
        "#Divide out greatest common factor\n",
        "n = int(numerator / factor)\n",
        "d = int(denominator / factor)\n",
        "\n",
        "#Display the result\n",
        "print(f\"The fraction for {digits} is {n}/{d}\")"
      ],
      "metadata": {
        "colab": {
          "base_uri": "https://localhost:8080/"
        },
        "id": "_fx3TRAwhIx4",
        "outputId": "5a3e8180-d689-4299-d242-ba5c3cd14d2e"
      },
      "execution_count": null,
      "outputs": [
        {
          "output_type": "stream",
          "name": "stdout",
          "text": [
            "Enter the decimal number to convert : .1254\n",
            "The fraction for .1254 is 627/5000\n"
          ]
        }
      ]
    },
    {
      "cell_type": "markdown",
      "source": [
        "Next level...Factoring square roots"
      ],
      "metadata": {
        "id": "ve9VDphxjfC2"
      }
    },
    {
      "cell_type": "code",
      "source": [
        "import math\n",
        "\n",
        "print(math.sqrt(25))"
      ],
      "metadata": {
        "colab": {
          "base_uri": "https://localhost:8080/"
        },
        "id": "AyJm2himji-R",
        "outputId": "87c77380-9d8c-4c9f-829b-e1481e8c5d57"
      },
      "execution_count": null,
      "outputs": [
        {
          "output_type": "stream",
          "name": "stdout",
          "text": [
            "5.0\n"
          ]
        }
      ]
    },
    {
      "cell_type": "markdown",
      "source": [
        "Divide out any perfect square factors. For example:\n",
        "$\\sqrt{12} = \\sqrt{4 * 3} = 2\\sqrt{3}$\n",
        "Because 4 is a square number, the square root of 4 is now outside the radical."
      ],
      "metadata": {
        "id": "Vz8UUyUVj4LU"
      }
    },
    {
      "cell_type": "code",
      "source": [
        "import math\n",
        "\n",
        "#number to factor\n",
        "n = 12\n",
        "\n",
        "# This variable will change\n",
        "max_factor = 1\n",
        "\n",
        "# The key ingredient\n",
        "upper_limit = math.floor(math.sqrt(n)) + 1\n",
        "\n",
        "#Find square factors\n",
        "for test_factor in range(1, upper_limit):\n",
        "  if n % (test_factor ** 2) == 0:\n",
        "    max_factor = test_factor\n",
        "\n",
        "#Results so far\n",
        "print(f\"The largest square factor of {n} is {max_factor}\")\n",
        "print(f\"Square factor = {max_factor ** 2}\")\n",
        "print(f\"Non-square factor = {int(n / max_factor ** 2)}\")"
      ],
      "metadata": {
        "id": "4bQgpwVTjunH"
      },
      "execution_count": null,
      "outputs": []
    },
    {
      "cell_type": "markdown",
      "source": [
        "Using sympy to make this look nice"
      ],
      "metadata": {
        "id": "otpURYn2mcGM"
      }
    },
    {
      "cell_type": "code",
      "source": [
        "import math\n",
        "import sympy\n",
        "from sympy import symbols\n",
        "\n",
        "n = 24\n",
        "\n",
        "#Use these variables\n",
        "upper_limit = math.floor(math.sqrt(n)) + 1\n",
        "max_factor = 1\n",
        "other_factor = 1\n",
        "square_root = 1\n",
        "\n",
        "#Slightly different variable strategy\n",
        "for test_factor in range(1, upper_limit):\n",
        "  if n % (test_factor ** 2) == 0:\n",
        "    max_factor = test_factor ** 2\n",
        "\n",
        "\n",
        "#Divide out the greatest square factor\n",
        "other_factor = n / max_factor\n",
        "\n",
        "#Output variables\n",
        "square_root = int(math.sqrt(max_factor))\n",
        "other_factor = int(other_factor)\n",
        "\n",
        "#Display the result\n",
        "output = square_root * sympy.sqrt(other_factor)\n",
        "output\n"
      ],
      "metadata": {
        "colab": {
          "base_uri": "https://localhost:8080/",
          "height": 38
        },
        "id": "PaHAkqgJmsSy",
        "outputId": "dd998d89-7882-42a0-f752-1f97299c04bb"
      },
      "execution_count": null,
      "outputs": [
        {
          "output_type": "execute_result",
          "data": {
            "text/plain": [
              "2*sqrt(6)"
            ],
            "text/latex": "$\\displaystyle 2 \\sqrt{6}$"
          },
          "metadata": {},
          "execution_count": 7
        }
      ]
    },
    {
      "cell_type": "markdown",
      "source": [
        "# Graphing systems of equations"
      ],
      "metadata": {
        "id": "VLo1CYZ7dkXz"
      }
    },
    {
      "cell_type": "markdown",
      "source": [
        "Use numpy library instead of a loop"
      ],
      "metadata": {
        "id": "29RW-7ZqdsH5"
      }
    },
    {
      "cell_type": "code",
      "source": [
        "import matplotlib.pyplot as plt\n",
        "import numpy as np\n",
        "\n",
        "xmin = -10\n",
        "xmax = 10\n",
        "ymin = -10\n",
        "ymax = 10\n",
        "\n",
        "\n",
        "#Define how many points to plot\n",
        "points = 10 * (xmax - xmin)\n",
        "\n",
        "#Define the array of x values once\n",
        "x = np.linspace(xmin, xmax, points)\n",
        "\n",
        "fig, ax = plt.subplots()\n",
        "plt.axis([xmin, xmax, ymin, ymax])\n",
        "plt.plot([xmin, xmax], [0, 0], 'b')\n",
        "plt.plot([0, 0], [ymin, ymax], 'b')\n",
        "\n",
        "#line 1\n",
        "y1  = 2 * x\n",
        "plt.plot(x, y1)\n",
        "\n",
        "#line 2\n",
        "y2 = x ** 2 -3\n",
        "plt.plot(x, y2)\n",
        "\n",
        "plt.show()"
      ],
      "metadata": {
        "colab": {
          "base_uri": "https://localhost:8080/",
          "height": 435
        },
        "id": "4c4ulkIEdpGz",
        "outputId": "47608034-f03a-4505-cb64-7219db4dc8ab"
      },
      "execution_count": null,
      "outputs": [
        {
          "output_type": "display_data",
          "data": {
            "text/plain": [
              "<Figure size 640x480 with 1 Axes>"
            ],
            "image/png": "[encoded data removed]"
          },
          "metadata": {}
        }
      ]
    },
    {
      "cell_type": "markdown",
      "source": [
        "Shading and graphing inequalities"
      ],
      "metadata": {
        "id": "4xnvsjdYmqlP"
      }
    },
    {
      "cell_type": "code",
      "source": [
        "import matplotlib.pyplot as plt\n",
        "import numpy as np\n",
        "\n",
        "xmin = -10\n",
        "xmax = 10\n",
        "ymin = -10\n",
        "ymax = 10\n",
        "points = 2*(xmax - xmin)\n",
        "x= np.linspace(xmin, xmax, points)\n",
        "\n",
        "fig, ax = plt.subplots()\n",
        "plt.axis([xmin, xmax, ymin, ymax]) #window size\n",
        "plt.plot([xmin, xmax], [0,0], 'b') #blue x axis\n",
        "plt.plot([0, 0], [ymin, ymax], 'b') #blue y axis\n",
        "\n",
        "#line 1\n",
        "y1 = x + 6\n",
        "plt.plot(x, y1)\n",
        "plt.fill_between(x, y1, 10, facecolor = 'red')\n",
        "\n",
        "#line 2\n",
        "y2 = x + 3\n",
        "plt.plot(x, y2)\n",
        "plt.fill_between(x, y2, y1, facecolor = 'yellow')\n",
        "\n",
        "#line 3\n",
        "y3 = x - 1\n",
        "plt.plot(x, y3)\n",
        "plt.fill_between(x, y3, y2, facecolor = 'green')\n",
        "\n",
        "#line 4\n",
        "y4 = x-4\n",
        "plt.plot(x, y4)\n",
        "plt.fill_between(x, y4, y3, facecolor = 'blue')\n",
        "\n",
        "\n",
        "plt.show()\n",
        "\n"
      ],
      "metadata": {
        "id": "UxFFQvu3dukY",
        "colab": {
          "base_uri": "https://localhost:8080/",
          "height": 435
        },
        "outputId": "be6b4a52-d3cb-4a27-b0df-e6902b6f9767"
      },
      "execution_count": 5,
      "outputs": [
        {
          "output_type": "display_data",
          "data": {
            "text/plain": [
              "<Figure size 640x480 with 1 Axes>"
            ],
            "image/png": "[encoded data removed]"
          },
          "metadata": {}
        }
      ]
    },
    {
      "cell_type": "markdown",
      "source": [
        "Interactive graphs"
      ],
      "metadata": {
        "id": "BDvaLs9z4ZX2"
      }
    },
    {
      "cell_type": "code",
      "source": [
        "%matplotlib inline\n",
        "import matplotlib.pyplot as plt\n",
        "import numpy as np\n",
        "from ipywidgets import interactive\n",
        "\n",
        "#Define the graphing function\n",
        "def f(m, b, zoom):\n",
        "  xmin = -zoom\n",
        "  xmax = zoom\n",
        "  ymin = -zoom\n",
        "  ymax = zoom\n",
        "  points = 10 * xmax - xmin\n",
        "  x = np.linspace(xmin, xmax, points)\n",
        "\n",
        "  plt.axis([xmin, xmax, ymin, ymax]) #window size\n",
        "  plt.plot([xmin, xmax], [0, 0], 'b') #black x axis\n",
        "  plt.plot([0, 0], [ymin, ymax], 'b') #black y axis\n",
        "\n",
        "  y = m * x + b\n",
        "  plt.plot(x, y)\n",
        "\n",
        "# Set up the sliders\n",
        "interactive_plot = interactive(f, m = (-10, 10), b = (-10, 10), zoom = (1, 100))\n",
        "interactive_plot"
      ],
      "metadata": {
        "id": "wUZNGroWmolO"
      },
      "execution_count": null,
      "outputs": []
    }
  ]
}